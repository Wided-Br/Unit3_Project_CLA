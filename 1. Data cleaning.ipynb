{
 "cells": [
  {
   "cell_type": "markdown",
   "id": "b5349838",
   "metadata": {},
   "source": [
    "<img src=\"Logo.png\" width=\"100\" align=\"left\"/> \n",
    "\n",
    "# <center> Unit 3 Project </center>\n",
    "#  <center> First section : Data cleaning  </center>\n",
    "\n",
    "In this notebook you will be cleaning your dataset and making sure it's fully ready for modeling.\n",
    "\n",
    "The used dataset is [Hepatitis C  dataset](https://www.kaggle.com/fedesoriano/hepatitis-c-dataset)"
   ]
  },
  {
   "cell_type": "markdown",
   "id": "c3a880ce",
   "metadata": {},
   "source": [
    "## Data preparation \n",
    "As a first step we need to prepare the data :\n",
    "\n",
    "1. Read the data set as a data frame ( file name is HepatitisCdata.csv) \n",
    "2. The here are the column of your dataset:\n",
    "    1) X (Patient ID/No.)\n",
    "    2) Category (diagnosis) (values: '0=Blood Donor', '0s=suspect Blood Donor', '1=Hepatitis', '2=Fibrosis', '3=Cirrhosis') ( the target ) \n",
    "    3) Age (in years)\n",
    "    4) Sex (f,m)\n",
    "    Attributes 5 to 14 refer to laboratory data:\n",
    "    5) ALB : Albumin Blood Test\n",
    "    6) ALP : Alkaline phosphatase\n",
    "    7) ALT : Alanine Transaminase\n",
    "    8) AST : Aspartate Transaminase\n",
    "    9) BIL : Bilirubin\n",
    "    10) CHE : Acetylcholinesterase\n",
    "    11) CHOL : Cholesterol\n",
    "    12) CREA : Creatinine \n",
    "    13) GGT : Gamma-Glutamyl Transferase\n",
    "    14) PROT : Proteins\n",
    "    \n",
    "3. Remember your model only accepts numbers so make sure you deal properly with the missing values and the data types and justify your solution choices \n",
    " \n",
    "4. Make sure the dataset shape in the end is : rows 615 and  14 columns \n",
    " \n",
    "5. Once finished save the cleaned dataset as \"clean_HepatitisC.csv\" file \n",
    " "
   ]
  },
  {
   "cell_type": "code",
   "execution_count": 1,
   "id": "7ef3a82c",
   "metadata": {},
   "outputs": [],
   "source": [
    "import pandas as pd \n",
    "import numpy as np "
   ]
  },
  {
   "cell_type": "code",
   "execution_count": 2,
   "id": "b75c3ac8",
   "metadata": {},
   "outputs": [],
   "source": [
    "#To-Do: read the dataset \n",
    "data = pd.read_csv(\"HepatitisCdata.csv\")"
   ]
  },
  {
   "cell_type": "code",
   "execution_count": 3,
   "id": "690a3bdc",
   "metadata": {
    "scrolled": true
   },
   "outputs": [
    {
     "name": "stdout",
     "output_type": "stream",
     "text": [
      "<class 'pandas.core.frame.DataFrame'>\n",
      "RangeIndex: 615 entries, 0 to 614\n",
      "Data columns (total 14 columns):\n",
      " #   Column      Non-Null Count  Dtype  \n",
      "---  ------      --------------  -----  \n",
      " 0   Unnamed: 0  615 non-null    int64  \n",
      " 1   Category    615 non-null    object \n",
      " 2   Age         615 non-null    int64  \n",
      " 3   Sex         615 non-null    object \n",
      " 4   ALB         614 non-null    float64\n",
      " 5   ALP         597 non-null    float64\n",
      " 6   ALT         614 non-null    float64\n",
      " 7   AST         615 non-null    float64\n",
      " 8   BIL         615 non-null    float64\n",
      " 9   CHE         615 non-null    float64\n",
      " 10  CHOL        605 non-null    float64\n",
      " 11  CREA        615 non-null    float64\n",
      " 12  GGT         615 non-null    float64\n",
      " 13  PROT        614 non-null    float64\n",
      "dtypes: float64(10), int64(2), object(2)\n",
      "memory usage: 67.4+ KB\n"
     ]
    }
   ],
   "source": [
    "data.info()"
   ]
  },
  {
   "cell_type": "code",
   "execution_count": 4,
   "id": "04e93e89",
   "metadata": {},
   "outputs": [
    {
     "data": {
      "text/html": [
       "<div>\n",
       "<style scoped>\n",
       "    .dataframe tbody tr th:only-of-type {\n",
       "        vertical-align: middle;\n",
       "    }\n",
       "\n",
       "    .dataframe tbody tr th {\n",
       "        vertical-align: top;\n",
       "    }\n",
       "\n",
       "    .dataframe thead th {\n",
       "        text-align: right;\n",
       "    }\n",
       "</style>\n",
       "<table border=\"1\" class=\"dataframe\">\n",
       "  <thead>\n",
       "    <tr style=\"text-align: right;\">\n",
       "      <th></th>\n",
       "      <th>Unnamed: 0</th>\n",
       "      <th>Category</th>\n",
       "      <th>Age</th>\n",
       "      <th>Sex</th>\n",
       "      <th>ALB</th>\n",
       "      <th>ALP</th>\n",
       "      <th>ALT</th>\n",
       "      <th>AST</th>\n",
       "      <th>BIL</th>\n",
       "      <th>CHE</th>\n",
       "      <th>CHOL</th>\n",
       "      <th>CREA</th>\n",
       "      <th>GGT</th>\n",
       "      <th>PROT</th>\n",
       "    </tr>\n",
       "  </thead>\n",
       "  <tbody>\n",
       "    <tr>\n",
       "      <th>0</th>\n",
       "      <td>1</td>\n",
       "      <td>0=Blood Donor</td>\n",
       "      <td>32</td>\n",
       "      <td>m</td>\n",
       "      <td>38.5</td>\n",
       "      <td>52.5</td>\n",
       "      <td>7.7</td>\n",
       "      <td>22.1</td>\n",
       "      <td>7.5</td>\n",
       "      <td>6.93</td>\n",
       "      <td>3.23</td>\n",
       "      <td>106.0</td>\n",
       "      <td>12.1</td>\n",
       "      <td>69.0</td>\n",
       "    </tr>\n",
       "    <tr>\n",
       "      <th>1</th>\n",
       "      <td>2</td>\n",
       "      <td>0=Blood Donor</td>\n",
       "      <td>32</td>\n",
       "      <td>m</td>\n",
       "      <td>38.5</td>\n",
       "      <td>70.3</td>\n",
       "      <td>18.0</td>\n",
       "      <td>24.7</td>\n",
       "      <td>3.9</td>\n",
       "      <td>11.17</td>\n",
       "      <td>4.80</td>\n",
       "      <td>74.0</td>\n",
       "      <td>15.6</td>\n",
       "      <td>76.5</td>\n",
       "    </tr>\n",
       "    <tr>\n",
       "      <th>2</th>\n",
       "      <td>3</td>\n",
       "      <td>0=Blood Donor</td>\n",
       "      <td>32</td>\n",
       "      <td>m</td>\n",
       "      <td>46.9</td>\n",
       "      <td>74.7</td>\n",
       "      <td>36.2</td>\n",
       "      <td>52.6</td>\n",
       "      <td>6.1</td>\n",
       "      <td>8.84</td>\n",
       "      <td>5.20</td>\n",
       "      <td>86.0</td>\n",
       "      <td>33.2</td>\n",
       "      <td>79.3</td>\n",
       "    </tr>\n",
       "    <tr>\n",
       "      <th>3</th>\n",
       "      <td>4</td>\n",
       "      <td>0=Blood Donor</td>\n",
       "      <td>32</td>\n",
       "      <td>m</td>\n",
       "      <td>43.2</td>\n",
       "      <td>52.0</td>\n",
       "      <td>30.6</td>\n",
       "      <td>22.6</td>\n",
       "      <td>18.9</td>\n",
       "      <td>7.33</td>\n",
       "      <td>4.74</td>\n",
       "      <td>80.0</td>\n",
       "      <td>33.8</td>\n",
       "      <td>75.7</td>\n",
       "    </tr>\n",
       "    <tr>\n",
       "      <th>4</th>\n",
       "      <td>5</td>\n",
       "      <td>0=Blood Donor</td>\n",
       "      <td>32</td>\n",
       "      <td>m</td>\n",
       "      <td>39.2</td>\n",
       "      <td>74.1</td>\n",
       "      <td>32.6</td>\n",
       "      <td>24.8</td>\n",
       "      <td>9.6</td>\n",
       "      <td>9.15</td>\n",
       "      <td>4.32</td>\n",
       "      <td>76.0</td>\n",
       "      <td>29.9</td>\n",
       "      <td>68.7</td>\n",
       "    </tr>\n",
       "    <tr>\n",
       "      <th>...</th>\n",
       "      <td>...</td>\n",
       "      <td>...</td>\n",
       "      <td>...</td>\n",
       "      <td>...</td>\n",
       "      <td>...</td>\n",
       "      <td>...</td>\n",
       "      <td>...</td>\n",
       "      <td>...</td>\n",
       "      <td>...</td>\n",
       "      <td>...</td>\n",
       "      <td>...</td>\n",
       "      <td>...</td>\n",
       "      <td>...</td>\n",
       "      <td>...</td>\n",
       "    </tr>\n",
       "    <tr>\n",
       "      <th>610</th>\n",
       "      <td>611</td>\n",
       "      <td>3=Cirrhosis</td>\n",
       "      <td>62</td>\n",
       "      <td>f</td>\n",
       "      <td>32.0</td>\n",
       "      <td>416.6</td>\n",
       "      <td>5.9</td>\n",
       "      <td>110.3</td>\n",
       "      <td>50.0</td>\n",
       "      <td>5.57</td>\n",
       "      <td>6.30</td>\n",
       "      <td>55.7</td>\n",
       "      <td>650.9</td>\n",
       "      <td>68.5</td>\n",
       "    </tr>\n",
       "    <tr>\n",
       "      <th>611</th>\n",
       "      <td>612</td>\n",
       "      <td>3=Cirrhosis</td>\n",
       "      <td>64</td>\n",
       "      <td>f</td>\n",
       "      <td>24.0</td>\n",
       "      <td>102.8</td>\n",
       "      <td>2.9</td>\n",
       "      <td>44.4</td>\n",
       "      <td>20.0</td>\n",
       "      <td>1.54</td>\n",
       "      <td>3.02</td>\n",
       "      <td>63.0</td>\n",
       "      <td>35.9</td>\n",
       "      <td>71.3</td>\n",
       "    </tr>\n",
       "    <tr>\n",
       "      <th>612</th>\n",
       "      <td>613</td>\n",
       "      <td>3=Cirrhosis</td>\n",
       "      <td>64</td>\n",
       "      <td>f</td>\n",
       "      <td>29.0</td>\n",
       "      <td>87.3</td>\n",
       "      <td>3.5</td>\n",
       "      <td>99.0</td>\n",
       "      <td>48.0</td>\n",
       "      <td>1.66</td>\n",
       "      <td>3.63</td>\n",
       "      <td>66.7</td>\n",
       "      <td>64.2</td>\n",
       "      <td>82.0</td>\n",
       "    </tr>\n",
       "    <tr>\n",
       "      <th>613</th>\n",
       "      <td>614</td>\n",
       "      <td>3=Cirrhosis</td>\n",
       "      <td>46</td>\n",
       "      <td>f</td>\n",
       "      <td>33.0</td>\n",
       "      <td>NaN</td>\n",
       "      <td>39.0</td>\n",
       "      <td>62.0</td>\n",
       "      <td>20.0</td>\n",
       "      <td>3.56</td>\n",
       "      <td>4.20</td>\n",
       "      <td>52.0</td>\n",
       "      <td>50.0</td>\n",
       "      <td>71.0</td>\n",
       "    </tr>\n",
       "    <tr>\n",
       "      <th>614</th>\n",
       "      <td>615</td>\n",
       "      <td>3=Cirrhosis</td>\n",
       "      <td>59</td>\n",
       "      <td>f</td>\n",
       "      <td>36.0</td>\n",
       "      <td>NaN</td>\n",
       "      <td>100.0</td>\n",
       "      <td>80.0</td>\n",
       "      <td>12.0</td>\n",
       "      <td>9.07</td>\n",
       "      <td>5.30</td>\n",
       "      <td>67.0</td>\n",
       "      <td>34.0</td>\n",
       "      <td>68.0</td>\n",
       "    </tr>\n",
       "  </tbody>\n",
       "</table>\n",
       "<p>615 rows × 14 columns</p>\n",
       "</div>"
      ],
      "text/plain": [
       "     Unnamed: 0       Category  Age Sex   ALB    ALP    ALT    AST   BIL  \\\n",
       "0             1  0=Blood Donor   32   m  38.5   52.5    7.7   22.1   7.5   \n",
       "1             2  0=Blood Donor   32   m  38.5   70.3   18.0   24.7   3.9   \n",
       "2             3  0=Blood Donor   32   m  46.9   74.7   36.2   52.6   6.1   \n",
       "3             4  0=Blood Donor   32   m  43.2   52.0   30.6   22.6  18.9   \n",
       "4             5  0=Blood Donor   32   m  39.2   74.1   32.6   24.8   9.6   \n",
       "..          ...            ...  ...  ..   ...    ...    ...    ...   ...   \n",
       "610         611    3=Cirrhosis   62   f  32.0  416.6    5.9  110.3  50.0   \n",
       "611         612    3=Cirrhosis   64   f  24.0  102.8    2.9   44.4  20.0   \n",
       "612         613    3=Cirrhosis   64   f  29.0   87.3    3.5   99.0  48.0   \n",
       "613         614    3=Cirrhosis   46   f  33.0    NaN   39.0   62.0  20.0   \n",
       "614         615    3=Cirrhosis   59   f  36.0    NaN  100.0   80.0  12.0   \n",
       "\n",
       "       CHE  CHOL   CREA    GGT  PROT  \n",
       "0     6.93  3.23  106.0   12.1  69.0  \n",
       "1    11.17  4.80   74.0   15.6  76.5  \n",
       "2     8.84  5.20   86.0   33.2  79.3  \n",
       "3     7.33  4.74   80.0   33.8  75.7  \n",
       "4     9.15  4.32   76.0   29.9  68.7  \n",
       "..     ...   ...    ...    ...   ...  \n",
       "610   5.57  6.30   55.7  650.9  68.5  \n",
       "611   1.54  3.02   63.0   35.9  71.3  \n",
       "612   1.66  3.63   66.7   64.2  82.0  \n",
       "613   3.56  4.20   52.0   50.0  71.0  \n",
       "614   9.07  5.30   67.0   34.0  68.0  \n",
       "\n",
       "[615 rows x 14 columns]"
      ]
     },
     "execution_count": 4,
     "metadata": {},
     "output_type": "execute_result"
    }
   ],
   "source": [
    "#To-Do  Start investigating the data types and correcting that \n",
    "# Provide explanation about each step in Markdown cells \n",
    "data"
   ]
  },
  {
   "cell_type": "markdown",
   "id": "a32f2a0a",
   "metadata": {},
   "source": [
    "There are two non-numeric features: 'Categoty' and 'Sex'. We will check their unique values and convert them into numerical ones."
   ]
  },
  {
   "cell_type": "code",
   "execution_count": 5,
   "id": "a2e9fca3",
   "metadata": {},
   "outputs": [
    {
     "data": {
      "text/plain": [
       "array(['0=Blood Donor', '0s=suspect Blood Donor', '1=Hepatitis',\n",
       "       '2=Fibrosis', '3=Cirrhosis'], dtype=object)"
      ]
     },
     "execution_count": 5,
     "metadata": {},
     "output_type": "execute_result"
    }
   ],
   "source": [
    "data.Category.unique()"
   ]
  },
  {
   "cell_type": "markdown",
   "id": "47001e66",
   "metadata": {},
   "source": [
    "There 4 categorical values in the column 'Category', thus they are replaced with numerical ordinal values:\n",
    "<br>0: Blood Donor \n",
    "<br>1: suspect Blood Donor \n",
    "<br>2: Hepatitis \n",
    "<br>3: Fibrosis\n",
    "<br>4: Cirrhosis"
   ]
  },
  {
   "cell_type": "code",
   "execution_count": 6,
   "id": "2468c462",
   "metadata": {},
   "outputs": [],
   "source": [
    "data['Category'].replace(['0=Blood Donor', '0s=suspect Blood Donor','1=Hepatitis','2=Fibrosis','3=Cirrhosis'],\n",
    "                         [0, 1, 2, 3, 4], inplace=True)"
   ]
  },
  {
   "cell_type": "code",
   "execution_count": 7,
   "id": "fc1789df",
   "metadata": {},
   "outputs": [
    {
     "data": {
      "text/plain": [
       "array(['m', 'f'], dtype=object)"
      ]
     },
     "execution_count": 7,
     "metadata": {},
     "output_type": "execute_result"
    }
   ],
   "source": [
    "data.Sex.unique()"
   ]
  },
  {
   "cell_type": "markdown",
   "id": "8ac33f13",
   "metadata": {},
   "source": [
    "There are 2 categorical values for the gender column, they are replaced with numerical ordinal values:\n",
    "<br>0: male\n",
    "<br>1: female"
   ]
  },
  {
   "cell_type": "code",
   "execution_count": 8,
   "id": "b78c753d",
   "metadata": {},
   "outputs": [],
   "source": [
    "data['Sex'].replace(['m', 'f'],[0, 1], inplace=True)"
   ]
  },
  {
   "cell_type": "code",
   "execution_count": 9,
   "id": "d686677e",
   "metadata": {},
   "outputs": [
    {
     "data": {
      "text/html": [
       "<div>\n",
       "<style scoped>\n",
       "    .dataframe tbody tr th:only-of-type {\n",
       "        vertical-align: middle;\n",
       "    }\n",
       "\n",
       "    .dataframe tbody tr th {\n",
       "        vertical-align: top;\n",
       "    }\n",
       "\n",
       "    .dataframe thead th {\n",
       "        text-align: right;\n",
       "    }\n",
       "</style>\n",
       "<table border=\"1\" class=\"dataframe\">\n",
       "  <thead>\n",
       "    <tr style=\"text-align: right;\">\n",
       "      <th></th>\n",
       "      <th>Unnamed: 0</th>\n",
       "      <th>Category</th>\n",
       "      <th>Age</th>\n",
       "      <th>Sex</th>\n",
       "      <th>ALB</th>\n",
       "      <th>ALP</th>\n",
       "      <th>ALT</th>\n",
       "      <th>AST</th>\n",
       "      <th>BIL</th>\n",
       "      <th>CHE</th>\n",
       "      <th>CHOL</th>\n",
       "      <th>CREA</th>\n",
       "      <th>GGT</th>\n",
       "      <th>PROT</th>\n",
       "    </tr>\n",
       "  </thead>\n",
       "  <tbody>\n",
       "    <tr>\n",
       "      <th>0</th>\n",
       "      <td>1</td>\n",
       "      <td>0</td>\n",
       "      <td>32</td>\n",
       "      <td>0</td>\n",
       "      <td>38.5</td>\n",
       "      <td>52.5</td>\n",
       "      <td>7.7</td>\n",
       "      <td>22.1</td>\n",
       "      <td>7.5</td>\n",
       "      <td>6.93</td>\n",
       "      <td>3.23</td>\n",
       "      <td>106.0</td>\n",
       "      <td>12.1</td>\n",
       "      <td>69.0</td>\n",
       "    </tr>\n",
       "    <tr>\n",
       "      <th>1</th>\n",
       "      <td>2</td>\n",
       "      <td>0</td>\n",
       "      <td>32</td>\n",
       "      <td>0</td>\n",
       "      <td>38.5</td>\n",
       "      <td>70.3</td>\n",
       "      <td>18.0</td>\n",
       "      <td>24.7</td>\n",
       "      <td>3.9</td>\n",
       "      <td>11.17</td>\n",
       "      <td>4.80</td>\n",
       "      <td>74.0</td>\n",
       "      <td>15.6</td>\n",
       "      <td>76.5</td>\n",
       "    </tr>\n",
       "    <tr>\n",
       "      <th>2</th>\n",
       "      <td>3</td>\n",
       "      <td>0</td>\n",
       "      <td>32</td>\n",
       "      <td>0</td>\n",
       "      <td>46.9</td>\n",
       "      <td>74.7</td>\n",
       "      <td>36.2</td>\n",
       "      <td>52.6</td>\n",
       "      <td>6.1</td>\n",
       "      <td>8.84</td>\n",
       "      <td>5.20</td>\n",
       "      <td>86.0</td>\n",
       "      <td>33.2</td>\n",
       "      <td>79.3</td>\n",
       "    </tr>\n",
       "    <tr>\n",
       "      <th>3</th>\n",
       "      <td>4</td>\n",
       "      <td>0</td>\n",
       "      <td>32</td>\n",
       "      <td>0</td>\n",
       "      <td>43.2</td>\n",
       "      <td>52.0</td>\n",
       "      <td>30.6</td>\n",
       "      <td>22.6</td>\n",
       "      <td>18.9</td>\n",
       "      <td>7.33</td>\n",
       "      <td>4.74</td>\n",
       "      <td>80.0</td>\n",
       "      <td>33.8</td>\n",
       "      <td>75.7</td>\n",
       "    </tr>\n",
       "    <tr>\n",
       "      <th>4</th>\n",
       "      <td>5</td>\n",
       "      <td>0</td>\n",
       "      <td>32</td>\n",
       "      <td>0</td>\n",
       "      <td>39.2</td>\n",
       "      <td>74.1</td>\n",
       "      <td>32.6</td>\n",
       "      <td>24.8</td>\n",
       "      <td>9.6</td>\n",
       "      <td>9.15</td>\n",
       "      <td>4.32</td>\n",
       "      <td>76.0</td>\n",
       "      <td>29.9</td>\n",
       "      <td>68.7</td>\n",
       "    </tr>\n",
       "    <tr>\n",
       "      <th>...</th>\n",
       "      <td>...</td>\n",
       "      <td>...</td>\n",
       "      <td>...</td>\n",
       "      <td>...</td>\n",
       "      <td>...</td>\n",
       "      <td>...</td>\n",
       "      <td>...</td>\n",
       "      <td>...</td>\n",
       "      <td>...</td>\n",
       "      <td>...</td>\n",
       "      <td>...</td>\n",
       "      <td>...</td>\n",
       "      <td>...</td>\n",
       "      <td>...</td>\n",
       "    </tr>\n",
       "    <tr>\n",
       "      <th>610</th>\n",
       "      <td>611</td>\n",
       "      <td>4</td>\n",
       "      <td>62</td>\n",
       "      <td>1</td>\n",
       "      <td>32.0</td>\n",
       "      <td>416.6</td>\n",
       "      <td>5.9</td>\n",
       "      <td>110.3</td>\n",
       "      <td>50.0</td>\n",
       "      <td>5.57</td>\n",
       "      <td>6.30</td>\n",
       "      <td>55.7</td>\n",
       "      <td>650.9</td>\n",
       "      <td>68.5</td>\n",
       "    </tr>\n",
       "    <tr>\n",
       "      <th>611</th>\n",
       "      <td>612</td>\n",
       "      <td>4</td>\n",
       "      <td>64</td>\n",
       "      <td>1</td>\n",
       "      <td>24.0</td>\n",
       "      <td>102.8</td>\n",
       "      <td>2.9</td>\n",
       "      <td>44.4</td>\n",
       "      <td>20.0</td>\n",
       "      <td>1.54</td>\n",
       "      <td>3.02</td>\n",
       "      <td>63.0</td>\n",
       "      <td>35.9</td>\n",
       "      <td>71.3</td>\n",
       "    </tr>\n",
       "    <tr>\n",
       "      <th>612</th>\n",
       "      <td>613</td>\n",
       "      <td>4</td>\n",
       "      <td>64</td>\n",
       "      <td>1</td>\n",
       "      <td>29.0</td>\n",
       "      <td>87.3</td>\n",
       "      <td>3.5</td>\n",
       "      <td>99.0</td>\n",
       "      <td>48.0</td>\n",
       "      <td>1.66</td>\n",
       "      <td>3.63</td>\n",
       "      <td>66.7</td>\n",
       "      <td>64.2</td>\n",
       "      <td>82.0</td>\n",
       "    </tr>\n",
       "    <tr>\n",
       "      <th>613</th>\n",
       "      <td>614</td>\n",
       "      <td>4</td>\n",
       "      <td>46</td>\n",
       "      <td>1</td>\n",
       "      <td>33.0</td>\n",
       "      <td>NaN</td>\n",
       "      <td>39.0</td>\n",
       "      <td>62.0</td>\n",
       "      <td>20.0</td>\n",
       "      <td>3.56</td>\n",
       "      <td>4.20</td>\n",
       "      <td>52.0</td>\n",
       "      <td>50.0</td>\n",
       "      <td>71.0</td>\n",
       "    </tr>\n",
       "    <tr>\n",
       "      <th>614</th>\n",
       "      <td>615</td>\n",
       "      <td>4</td>\n",
       "      <td>59</td>\n",
       "      <td>1</td>\n",
       "      <td>36.0</td>\n",
       "      <td>NaN</td>\n",
       "      <td>100.0</td>\n",
       "      <td>80.0</td>\n",
       "      <td>12.0</td>\n",
       "      <td>9.07</td>\n",
       "      <td>5.30</td>\n",
       "      <td>67.0</td>\n",
       "      <td>34.0</td>\n",
       "      <td>68.0</td>\n",
       "    </tr>\n",
       "  </tbody>\n",
       "</table>\n",
       "<p>615 rows × 14 columns</p>\n",
       "</div>"
      ],
      "text/plain": [
       "     Unnamed: 0  Category  Age  Sex   ALB    ALP    ALT    AST   BIL    CHE  \\\n",
       "0             1         0   32    0  38.5   52.5    7.7   22.1   7.5   6.93   \n",
       "1             2         0   32    0  38.5   70.3   18.0   24.7   3.9  11.17   \n",
       "2             3         0   32    0  46.9   74.7   36.2   52.6   6.1   8.84   \n",
       "3             4         0   32    0  43.2   52.0   30.6   22.6  18.9   7.33   \n",
       "4             5         0   32    0  39.2   74.1   32.6   24.8   9.6   9.15   \n",
       "..          ...       ...  ...  ...   ...    ...    ...    ...   ...    ...   \n",
       "610         611         4   62    1  32.0  416.6    5.9  110.3  50.0   5.57   \n",
       "611         612         4   64    1  24.0  102.8    2.9   44.4  20.0   1.54   \n",
       "612         613         4   64    1  29.0   87.3    3.5   99.0  48.0   1.66   \n",
       "613         614         4   46    1  33.0    NaN   39.0   62.0  20.0   3.56   \n",
       "614         615         4   59    1  36.0    NaN  100.0   80.0  12.0   9.07   \n",
       "\n",
       "     CHOL   CREA    GGT  PROT  \n",
       "0    3.23  106.0   12.1  69.0  \n",
       "1    4.80   74.0   15.6  76.5  \n",
       "2    5.20   86.0   33.2  79.3  \n",
       "3    4.74   80.0   33.8  75.7  \n",
       "4    4.32   76.0   29.9  68.7  \n",
       "..    ...    ...    ...   ...  \n",
       "610  6.30   55.7  650.9  68.5  \n",
       "611  3.02   63.0   35.9  71.3  \n",
       "612  3.63   66.7   64.2  82.0  \n",
       "613  4.20   52.0   50.0  71.0  \n",
       "614  5.30   67.0   34.0  68.0  \n",
       "\n",
       "[615 rows x 14 columns]"
      ]
     },
     "execution_count": 9,
     "metadata": {},
     "output_type": "execute_result"
    }
   ],
   "source": [
    "data"
   ]
  },
  {
   "cell_type": "markdown",
   "id": "801d1a20",
   "metadata": {},
   "source": [
    "> Data types are all numeric Now ! Next we need to deal with missing values for the feature columns "
   ]
  },
  {
   "cell_type": "markdown",
   "id": "0524721b",
   "metadata": {
    "scrolled": true
   },
   "source": [
    "#To-Do list all the columns that contain missing values along with their counts "
   ]
  },
  {
   "cell_type": "code",
   "execution_count": 10,
   "id": "775f0b44",
   "metadata": {},
   "outputs": [],
   "source": [
    "# To-Do Start providing solutions for each column that has missing data \n",
    "# Treat each case seperately \n",
    "# Hint : no data row should be deleted \n",
    "# Provide evidence that you filled those missing values after each step "
   ]
  },
  {
   "cell_type": "code",
   "execution_count": 11,
   "id": "5cdad4cf",
   "metadata": {},
   "outputs": [],
   "source": [
    "import matplotlib.pyplot as plt\n",
    "import seaborn as sns\n",
    "import warnings\n",
    "warnings.filterwarnings(\"ignore\")"
   ]
  },
  {
   "cell_type": "code",
   "execution_count": 12,
   "id": "22cb6427",
   "metadata": {},
   "outputs": [
    {
     "data": {
      "text/plain": [
       "Unnamed: 0     0\n",
       "Category       0\n",
       "Age            0\n",
       "Sex            0\n",
       "ALB            1\n",
       "ALP           18\n",
       "ALT            1\n",
       "AST            0\n",
       "BIL            0\n",
       "CHE            0\n",
       "CHOL          10\n",
       "CREA           0\n",
       "GGT            0\n",
       "PROT           1\n",
       "dtype: int64"
      ]
     },
     "execution_count": 12,
     "metadata": {},
     "output_type": "execute_result"
    }
   ],
   "source": [
    "data.isna().sum()"
   ]
  },
  {
   "cell_type": "code",
   "execution_count": 13,
   "id": "0b6f5ce3",
   "metadata": {},
   "outputs": [
    {
     "data": {
      "text/plain": [
       "<AxesSubplot:>"
      ]
     },
     "execution_count": 13,
     "metadata": {},
     "output_type": "execute_result"
    },
    {
     "data": {
      "image/png": "[encoded data removed]",
      "text/plain": [
       "<Figure size 432x288 with 1 Axes>"
      ]
     },
     "metadata": {
      "needs_background": "light"
     },
     "output_type": "display_data"
    }
   ],
   "source": [
    "# Visualizing the missing values\n",
    "sns.heatmap(data.isnull(),yticklabels=False,cbar=False)"
   ]
  },
  {
   "cell_type": "markdown",
   "id": "aa764a53",
   "metadata": {},
   "source": [
    "There isn't much missing data in our dataframe as we can see."
   ]
  },
  {
   "cell_type": "code",
   "execution_count": 14,
   "id": "200c3de6",
   "metadata": {},
   "outputs": [
    {
     "data": {
      "text/plain": [
       "Text(0.5, 0, 'PROT')"
      ]
     },
     "execution_count": 14,
     "metadata": {},
     "output_type": "execute_result"
    },
    {
     "data": {
      "image/png": "[encoded data removed]",
      "text/plain": [
       "<Figure size 1440x720 with 5 Axes>"
      ]
     },
     "metadata": {
      "needs_background": "light"
     },
     "output_type": "display_data"
    }
   ],
   "source": [
    "# Outliers Identification using Boxplot\n",
    "fig, axes = plt.subplots(1, 5, figsize=(20,10))\n",
    "sns.boxplot( data=data['ALT'], ax=axes[0], color='red').set_xlabel(\"ALT\",fontsize=17)\n",
    "sns.boxplot( data=data['ALP'], ax=axes[1], color='green').set_xlabel(\"ALP\",fontsize=17)\n",
    "sns.boxplot( data=data['ALB'], ax=axes[2], color='orange').set_xlabel(\"ALB\",fontsize=17)\n",
    "sns.boxplot( data=data['CHOL'], ax=axes[3], color='blue').set_xlabel(\"CHOL\",fontsize=17)\n",
    "sns.boxplot( data=data['PROT'], ax=axes[4], color='skyblue').set_xlabel(\"PROT\",fontsize=17)"
   ]
  },
  {
   "cell_type": "markdown",
   "id": "31e04ad0",
   "metadata": {},
   "source": [
    "Since there are **outliers** in all the previously plotted features, it is advised not to use the mean to replace missing values \n",
    "because it is highly susceptible to outliers. So replacement will be using either the **median** or the **mode**."
   ]
  },
  {
   "cell_type": "markdown",
   "id": "21c886c7",
   "metadata": {},
   "source": [
    "When the data is **skewed**, it is good to consider using the **median** value for replacing the missing values.\n"
   ]
  },
  {
   "cell_type": "code",
   "execution_count": 15,
   "id": "fa879d82",
   "metadata": {},
   "outputs": [
    {
     "name": "stdout",
     "output_type": "stream",
     "text": [
      "skewness value of ALB:  -0.17676758913402804\n",
      "skewness value of ALP:  4.654920650234635\n",
      "skewness value of ALT:  5.506113537258191\n",
      "skewness value of CHOL:  0.37582755477046126\n",
      "skewness value of PROT:  -0.9636873886414515\n"
     ]
    }
   ],
   "source": [
    "print('skewness value of ALB: ',data['ALB'].skew())\n",
    "print('skewness value of ALP: ',data['ALP'].skew())\n",
    "print('skewness value of ALT: ',data['ALT'].skew())\n",
    "print('skewness value of CHOL: ',data['CHOL'].skew())\n",
    "print('skewness value of PROT: ',data['PROT'].skew())"
   ]
  },
  {
   "cell_type": "markdown",
   "id": "85ebd8e7",
   "metadata": {},
   "source": [
    "From the results found above, the following can be concluded:\n",
    "<br>Missing values of **ALP** and **ALT** and **PROT** will be replaced by their respective **median** values due to their **skewness**.\n",
    "<br>Missing values of **ALB** and **CHOL** will be replaced with their respective **mode** values."
   ]
  },
  {
   "cell_type": "code",
   "execution_count": 16,
   "id": "d17567c9",
   "metadata": {},
   "outputs": [
    {
     "name": "stdout",
     "output_type": "stream",
     "text": [
      "ALP median value:  66.2\n",
      "ALT median value:  23.0\n",
      "PROT median value:  72.2\n"
     ]
    }
   ],
   "source": [
    "print(\"ALP median value: \", data['ALP'].median())\n",
    "data['ALP'] = data['ALP'].fillna(data['ALP'].median())\n",
    "print(\"ALT median value: \", data['ALT'].median())\n",
    "data['ALT'] = data['ALT'].fillna(data['ALT'].median())\n",
    "print(\"PROT median value: \", data['PROT'].median())\n",
    "data['PROT'] = data['PROT'].fillna(data['PROT'].median())"
   ]
  },
  {
   "cell_type": "code",
   "execution_count": 17,
   "id": "68954efe",
   "metadata": {},
   "outputs": [
    {
     "name": "stdout",
     "output_type": "stream",
     "text": [
      "ALB mode value:\n",
      "0    39.0\n",
      "Name: ALB, dtype: float64\n",
      "\n",
      "CHOL modes are:\n",
      "0    5.07\n",
      "1    5.10\n",
      "Name: CHOL, dtype: float64\n"
     ]
    }
   ],
   "source": [
    "print(\"ALB mode value:\")\n",
    "print(data['ALB'].mode())\n",
    "print()\n",
    "print(\"CHOL modes are:\")\n",
    "print(data['CHOL'].mode())"
   ]
  },
  {
   "cell_type": "markdown",
   "id": "886699d3",
   "metadata": {},
   "source": [
    "Since the two CHOL modes are close, the first one is chosen to replace the mising values in the CHOL column."
   ]
  },
  {
   "cell_type": "code",
   "execution_count": 18,
   "id": "96743d22",
   "metadata": {},
   "outputs": [],
   "source": [
    "data['ALB'] = data['ALB'].fillna(data['ALB'].mode()[0])\n",
    "data['CHOL'] = data['CHOL'].fillna(data['CHOL'].mode()[0])"
   ]
  },
  {
   "cell_type": "code",
   "execution_count": 19,
   "id": "6551f694",
   "metadata": {},
   "outputs": [
    {
     "data": {
      "text/html": [
       "<div>\n",
       "<style scoped>\n",
       "    .dataframe tbody tr th:only-of-type {\n",
       "        vertical-align: middle;\n",
       "    }\n",
       "\n",
       "    .dataframe tbody tr th {\n",
       "        vertical-align: top;\n",
       "    }\n",
       "\n",
       "    .dataframe thead th {\n",
       "        text-align: right;\n",
       "    }\n",
       "</style>\n",
       "<table border=\"1\" class=\"dataframe\">\n",
       "  <thead>\n",
       "    <tr style=\"text-align: right;\">\n",
       "      <th></th>\n",
       "      <th>Unnamed: 0</th>\n",
       "      <th>Category</th>\n",
       "      <th>Age</th>\n",
       "      <th>Sex</th>\n",
       "      <th>ALB</th>\n",
       "      <th>ALP</th>\n",
       "      <th>ALT</th>\n",
       "      <th>AST</th>\n",
       "      <th>BIL</th>\n",
       "      <th>CHE</th>\n",
       "      <th>CHOL</th>\n",
       "      <th>CREA</th>\n",
       "      <th>GGT</th>\n",
       "      <th>PROT</th>\n",
       "    </tr>\n",
       "  </thead>\n",
       "  <tbody>\n",
       "    <tr>\n",
       "      <th>0</th>\n",
       "      <td>1</td>\n",
       "      <td>0</td>\n",
       "      <td>32</td>\n",
       "      <td>0</td>\n",
       "      <td>38.5</td>\n",
       "      <td>52.5</td>\n",
       "      <td>7.7</td>\n",
       "      <td>22.1</td>\n",
       "      <td>7.5</td>\n",
       "      <td>6.93</td>\n",
       "      <td>3.23</td>\n",
       "      <td>106.0</td>\n",
       "      <td>12.1</td>\n",
       "      <td>69.0</td>\n",
       "    </tr>\n",
       "    <tr>\n",
       "      <th>1</th>\n",
       "      <td>2</td>\n",
       "      <td>0</td>\n",
       "      <td>32</td>\n",
       "      <td>0</td>\n",
       "      <td>38.5</td>\n",
       "      <td>70.3</td>\n",
       "      <td>18.0</td>\n",
       "      <td>24.7</td>\n",
       "      <td>3.9</td>\n",
       "      <td>11.17</td>\n",
       "      <td>4.80</td>\n",
       "      <td>74.0</td>\n",
       "      <td>15.6</td>\n",
       "      <td>76.5</td>\n",
       "    </tr>\n",
       "    <tr>\n",
       "      <th>2</th>\n",
       "      <td>3</td>\n",
       "      <td>0</td>\n",
       "      <td>32</td>\n",
       "      <td>0</td>\n",
       "      <td>46.9</td>\n",
       "      <td>74.7</td>\n",
       "      <td>36.2</td>\n",
       "      <td>52.6</td>\n",
       "      <td>6.1</td>\n",
       "      <td>8.84</td>\n",
       "      <td>5.20</td>\n",
       "      <td>86.0</td>\n",
       "      <td>33.2</td>\n",
       "      <td>79.3</td>\n",
       "    </tr>\n",
       "    <tr>\n",
       "      <th>3</th>\n",
       "      <td>4</td>\n",
       "      <td>0</td>\n",
       "      <td>32</td>\n",
       "      <td>0</td>\n",
       "      <td>43.2</td>\n",
       "      <td>52.0</td>\n",
       "      <td>30.6</td>\n",
       "      <td>22.6</td>\n",
       "      <td>18.9</td>\n",
       "      <td>7.33</td>\n",
       "      <td>4.74</td>\n",
       "      <td>80.0</td>\n",
       "      <td>33.8</td>\n",
       "      <td>75.7</td>\n",
       "    </tr>\n",
       "    <tr>\n",
       "      <th>4</th>\n",
       "      <td>5</td>\n",
       "      <td>0</td>\n",
       "      <td>32</td>\n",
       "      <td>0</td>\n",
       "      <td>39.2</td>\n",
       "      <td>74.1</td>\n",
       "      <td>32.6</td>\n",
       "      <td>24.8</td>\n",
       "      <td>9.6</td>\n",
       "      <td>9.15</td>\n",
       "      <td>4.32</td>\n",
       "      <td>76.0</td>\n",
       "      <td>29.9</td>\n",
       "      <td>68.7</td>\n",
       "    </tr>\n",
       "    <tr>\n",
       "      <th>...</th>\n",
       "      <td>...</td>\n",
       "      <td>...</td>\n",
       "      <td>...</td>\n",
       "      <td>...</td>\n",
       "      <td>...</td>\n",
       "      <td>...</td>\n",
       "      <td>...</td>\n",
       "      <td>...</td>\n",
       "      <td>...</td>\n",
       "      <td>...</td>\n",
       "      <td>...</td>\n",
       "      <td>...</td>\n",
       "      <td>...</td>\n",
       "      <td>...</td>\n",
       "    </tr>\n",
       "    <tr>\n",
       "      <th>610</th>\n",
       "      <td>611</td>\n",
       "      <td>4</td>\n",
       "      <td>62</td>\n",
       "      <td>1</td>\n",
       "      <td>32.0</td>\n",
       "      <td>416.6</td>\n",
       "      <td>5.9</td>\n",
       "      <td>110.3</td>\n",
       "      <td>50.0</td>\n",
       "      <td>5.57</td>\n",
       "      <td>6.30</td>\n",
       "      <td>55.7</td>\n",
       "      <td>650.9</td>\n",
       "      <td>68.5</td>\n",
       "    </tr>\n",
       "    <tr>\n",
       "      <th>611</th>\n",
       "      <td>612</td>\n",
       "      <td>4</td>\n",
       "      <td>64</td>\n",
       "      <td>1</td>\n",
       "      <td>24.0</td>\n",
       "      <td>102.8</td>\n",
       "      <td>2.9</td>\n",
       "      <td>44.4</td>\n",
       "      <td>20.0</td>\n",
       "      <td>1.54</td>\n",
       "      <td>3.02</td>\n",
       "      <td>63.0</td>\n",
       "      <td>35.9</td>\n",
       "      <td>71.3</td>\n",
       "    </tr>\n",
       "    <tr>\n",
       "      <th>612</th>\n",
       "      <td>613</td>\n",
       "      <td>4</td>\n",
       "      <td>64</td>\n",
       "      <td>1</td>\n",
       "      <td>29.0</td>\n",
       "      <td>87.3</td>\n",
       "      <td>3.5</td>\n",
       "      <td>99.0</td>\n",
       "      <td>48.0</td>\n",
       "      <td>1.66</td>\n",
       "      <td>3.63</td>\n",
       "      <td>66.7</td>\n",
       "      <td>64.2</td>\n",
       "      <td>82.0</td>\n",
       "    </tr>\n",
       "    <tr>\n",
       "      <th>613</th>\n",
       "      <td>614</td>\n",
       "      <td>4</td>\n",
       "      <td>46</td>\n",
       "      <td>1</td>\n",
       "      <td>33.0</td>\n",
       "      <td>66.2</td>\n",
       "      <td>39.0</td>\n",
       "      <td>62.0</td>\n",
       "      <td>20.0</td>\n",
       "      <td>3.56</td>\n",
       "      <td>4.20</td>\n",
       "      <td>52.0</td>\n",
       "      <td>50.0</td>\n",
       "      <td>71.0</td>\n",
       "    </tr>\n",
       "    <tr>\n",
       "      <th>614</th>\n",
       "      <td>615</td>\n",
       "      <td>4</td>\n",
       "      <td>59</td>\n",
       "      <td>1</td>\n",
       "      <td>36.0</td>\n",
       "      <td>66.2</td>\n",
       "      <td>100.0</td>\n",
       "      <td>80.0</td>\n",
       "      <td>12.0</td>\n",
       "      <td>9.07</td>\n",
       "      <td>5.30</td>\n",
       "      <td>67.0</td>\n",
       "      <td>34.0</td>\n",
       "      <td>68.0</td>\n",
       "    </tr>\n",
       "  </tbody>\n",
       "</table>\n",
       "<p>615 rows × 14 columns</p>\n",
       "</div>"
      ],
      "text/plain": [
       "     Unnamed: 0  Category  Age  Sex   ALB    ALP    ALT    AST   BIL    CHE  \\\n",
       "0             1         0   32    0  38.5   52.5    7.7   22.1   7.5   6.93   \n",
       "1             2         0   32    0  38.5   70.3   18.0   24.7   3.9  11.17   \n",
       "2             3         0   32    0  46.9   74.7   36.2   52.6   6.1   8.84   \n",
       "3             4         0   32    0  43.2   52.0   30.6   22.6  18.9   7.33   \n",
       "4             5         0   32    0  39.2   74.1   32.6   24.8   9.6   9.15   \n",
       "..          ...       ...  ...  ...   ...    ...    ...    ...   ...    ...   \n",
       "610         611         4   62    1  32.0  416.6    5.9  110.3  50.0   5.57   \n",
       "611         612         4   64    1  24.0  102.8    2.9   44.4  20.0   1.54   \n",
       "612         613         4   64    1  29.0   87.3    3.5   99.0  48.0   1.66   \n",
       "613         614         4   46    1  33.0   66.2   39.0   62.0  20.0   3.56   \n",
       "614         615         4   59    1  36.0   66.2  100.0   80.0  12.0   9.07   \n",
       "\n",
       "     CHOL   CREA    GGT  PROT  \n",
       "0    3.23  106.0   12.1  69.0  \n",
       "1    4.80   74.0   15.6  76.5  \n",
       "2    5.20   86.0   33.2  79.3  \n",
       "3    4.74   80.0   33.8  75.7  \n",
       "4    4.32   76.0   29.9  68.7  \n",
       "..    ...    ...    ...   ...  \n",
       "610  6.30   55.7  650.9  68.5  \n",
       "611  3.02   63.0   35.9  71.3  \n",
       "612  3.63   66.7   64.2  82.0  \n",
       "613  4.20   52.0   50.0  71.0  \n",
       "614  5.30   67.0   34.0  68.0  \n",
       "\n",
       "[615 rows x 14 columns]"
      ]
     },
     "execution_count": 19,
     "metadata": {},
     "output_type": "execute_result"
    }
   ],
   "source": [
    "# Last check for the dataset values after changements, as well as the shape\n",
    "data"
   ]
  },
  {
   "cell_type": "code",
   "execution_count": 20,
   "id": "e7820241",
   "metadata": {},
   "outputs": [
    {
     "data": {
      "text/plain": [
       "Unnamed: 0    0\n",
       "Category      0\n",
       "Age           0\n",
       "Sex           0\n",
       "ALB           0\n",
       "ALP           0\n",
       "ALT           0\n",
       "AST           0\n",
       "BIL           0\n",
       "CHE           0\n",
       "CHOL          0\n",
       "CREA          0\n",
       "GGT           0\n",
       "PROT          0\n",
       "dtype: int64"
      ]
     },
     "execution_count": 20,
     "metadata": {},
     "output_type": "execute_result"
    }
   ],
   "source": [
    "data.isna().sum()"
   ]
  },
  {
   "cell_type": "markdown",
   "id": "9dbb1158",
   "metadata": {},
   "source": [
    "> We have no more missing data\n",
    "As an optional thing we can also rename the first column as 'index' or \"ID\" instead of Unnamed "
   ]
  },
  {
   "cell_type": "code",
   "execution_count": 21,
   "id": "bd552319",
   "metadata": {},
   "outputs": [
    {
     "data": {
      "text/plain": [
       "Index(['Unnamed: 0', 'Category', 'Age', 'Sex', 'ALB', 'ALP', 'ALT', 'AST',\n",
       "       'BIL', 'CHE', 'CHOL', 'CREA', 'GGT', 'PROT'],\n",
       "      dtype='object')"
      ]
     },
     "execution_count": 21,
     "metadata": {},
     "output_type": "execute_result"
    }
   ],
   "source": [
    "data.columns"
   ]
  },
  {
   "cell_type": "code",
   "execution_count": 22,
   "id": "255cb6a7",
   "metadata": {},
   "outputs": [],
   "source": [
    "data.rename(columns={'Unnamed: 0': \"ID\"}, inplace=True)"
   ]
  },
  {
   "cell_type": "code",
   "execution_count": 23,
   "id": "f63998c3",
   "metadata": {},
   "outputs": [
    {
     "data": {
      "text/plain": [
       "Index(['ID', 'Category', 'Age', 'Sex', 'ALB', 'ALP', 'ALT', 'AST', 'BIL',\n",
       "       'CHE', 'CHOL', 'CREA', 'GGT', 'PROT'],\n",
       "      dtype='object')"
      ]
     },
     "execution_count": 23,
     "metadata": {},
     "output_type": "execute_result"
    }
   ],
   "source": [
    "data.columns"
   ]
  },
  {
   "cell_type": "markdown",
   "id": "380f2464",
   "metadata": {},
   "source": [
    "### 6. Save the clean dataset :"
   ]
  },
  {
   "cell_type": "code",
   "execution_count": 24,
   "id": "5b7d623f",
   "metadata": {},
   "outputs": [],
   "source": [
    "# Don't forget to drop the index \n",
    "data.to_csv('clean_HepatitisCdata.csv',index=False)"
   ]
  }
 ],
 "metadata": {
  "kernelspec": {
   "display_name": "Python 3 (ipykernel)",
   "language": "python",
   "name": "python3"
  },
  "language_info": {
   "codemirror_mode": {
    "name": "ipython",
    "version": 3
   },
   "file_extension": ".py",
   "mimetype": "text/x-python",
   "name": "python",
   "nbconvert_exporter": "python",
   "pygments_lexer": "ipython3",
   "version": "3.10.3"
  }
 },
 "nbformat": 4,
 "nbformat_minor": 5
}
